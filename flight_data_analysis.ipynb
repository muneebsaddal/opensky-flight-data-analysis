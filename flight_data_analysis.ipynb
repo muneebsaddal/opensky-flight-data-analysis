{
 "cells": [
  {
   "cell_type": "code",
   "execution_count": null,
   "id": "81e969f7",
   "metadata": {},
   "outputs": [],
   "source": [
    "import pandas as pd\n",
    "import numpy as np\n",
    "import matplotlib.pyplot as plt\n",
    "import seaborn as sns\n",
    "import folium"
   ]
  },
  {
   "cell_type": "markdown",
   "id": "414b6d8f",
   "metadata": {},
   "source": [
    "### Load Data"
   ]
  },
  {
   "cell_type": "code",
   "execution_count": null,
   "id": "ab088a5f",
   "metadata": {},
   "outputs": [],
   "source": [
    "file_path = \"flight_data.csv\"\n",
    "df = pd.read_csv(file_path)\n",
    "print(\"Data shape: \", df.shape)\n",
    "df.head()"
   ]
  },
  {
   "cell_type": "markdown",
   "id": "348b5b58",
   "metadata": {},
   "source": [
    "### Inspect data"
   ]
  },
  {
   "cell_type": "code",
   "execution_count": null,
   "id": "933b2a6e",
   "metadata": {},
   "outputs": [],
   "source": [
    "print(df.columns)\n",
    "print(df.info())\n",
    "print(df.describe())"
   ]
  },
  {
   "cell_type": "markdown",
   "id": "87748a35",
   "metadata": {},
   "source": [
    "### Data Cleaning"
   ]
  },
  {
   "cell_type": "code",
   "execution_count": null,
   "id": "411b9999",
   "metadata": {},
   "outputs": [],
   "source": [
    "df = df.drop(\"sensors\", axis=1)\n",
    "df = df.drop_duplicates()\n",
    "print(df.shape)"
   ]
  },
  {
   "cell_type": "markdown",
   "id": "59908688",
   "metadata": {},
   "source": [
    "### Convert UNIX time to datetime"
   ]
  },
  {
   "cell_type": "code",
   "execution_count": null,
   "id": "dc8565ab",
   "metadata": {},
   "outputs": [],
   "source": [
    "for col in [\"time_position\",\"last_contact\"]:\n",
    "    if col in df.columns:\n",
    "        df[col] = pd.to_datetime(df[col], unit='s', errors=\"coerce\")\n",
    "print(df.head())"
   ]
  },
  {
   "cell_type": "markdown",
   "id": "ca0eab08",
   "metadata": {},
   "source": [
    "### Handle missing values"
   ]
  },
  {
   "cell_type": "code",
   "execution_count": null,
   "id": "c0f22118",
   "metadata": {},
   "outputs": [],
   "source": [
    "print(df.isna().sum())\n",
    "df = df.dropna(subset=[\"longitude\", \"latitude\"])"
   ]
  },
  {
   "cell_type": "markdown",
   "id": "ddb3a823",
   "metadata": {},
   "source": [
    "## **EXPLORATORY ANALYSIS**"
   ]
  },
  {
   "cell_type": "markdown",
   "id": "f6b63ce8",
   "metadata": {},
   "source": [
    "### Set Graph Styles"
   ]
  },
  {
   "cell_type": "code",
   "execution_count": null,
   "id": "a5f2ce2b",
   "metadata": {},
   "outputs": [],
   "source": [
    "pd.set_option(\"display.max_columns\", None)\n",
    "sns.set_style(\"darkgrid\")  # adds seaborn style to charts, eg. grid\n",
    "plt.style.use(\"dark_background\")  # inverts colors to dark theme\n",
    "sns.set_palette(\"colorblind\")\n",
    "# sns.reset_defaults()"
   ]
  },
  {
   "cell_type": "markdown",
   "id": "3daed0a5",
   "metadata": {},
   "source": [
    "### Flights per country"
   ]
  },
  {
   "cell_type": "code",
   "execution_count": null,
   "id": "33f9161c",
   "metadata": {},
   "outputs": [],
   "source": [
    "if \"origin_country\" in df.columns:\n",
    "    top_country_count = (df[\"origin_country\"].value_counts().head(10))\n",
    "    plt.figure(figsize=(10,5))\n",
    "    sns.barplot(x=top_country_count.values, y=top_country_count.index)\n",
    "    plt.title(\"Top 10 origin countries\")\n",
    "    plt.xlabel(\"Number of flights\")\n",
    "    plt.ylabel(\"Countries\")\n",
    "    plt.show()    "
   ]
  },
  {
   "cell_type": "markdown",
   "id": "f01a78af",
   "metadata": {},
   "source": [
    "### Distribution of Altitude"
   ]
  },
  {
   "cell_type": "code",
   "execution_count": null,
   "id": "46b2d663",
   "metadata": {},
   "outputs": [],
   "source": [
    "if \"barometric_altitude\" in df.columns:\n",
    "    plt.figure(figsize=(8,5))\n",
    "    sns.histplot(df[\"barometric_altitude\"].dropna(), bins=50, kde=True)\n",
    "    plt.title(\"Distribution of Barometric Altitude\")\n",
    "    plt.xlabel(\"Altitude (m)\")\n",
    "    plt.show()"
   ]
  },
  {
   "cell_type": "markdown",
   "id": "5e0f281c",
   "metadata": {},
   "source": [
    "### Distribution of Flight Velocity"
   ]
  },
  {
   "cell_type": "code",
   "execution_count": null,
   "id": "f4373ab5",
   "metadata": {},
   "outputs": [],
   "source": [
    "if \"velocity\" in df.columns:\n",
    "    plt.figure(figsize=(8,5))\n",
    "    sns.histplot(df[\"velocity\"].dropna(), bins=50, kde=True)\n",
    "    plt.title(\"Distribution of Flight Velocity\")\n",
    "    plt.xlabel(\"Velocity (m/s)\")\n",
    "    plt.show()"
   ]
  },
  {
   "cell_type": "markdown",
   "id": "145da0d5",
   "metadata": {},
   "source": [
    "### Flights over time"
   ]
  },
  {
   "cell_type": "code",
   "execution_count": null,
   "id": "777d4b07",
   "metadata": {},
   "outputs": [],
   "source": [
    "if \"time_position\" in df.columns:\n",
    "    df[\"hour\"] = df[\"time_position\"].dt.hour\n",
    "    hourly_counts = df.groupby(\"hour\")[\"icao24\"].count()\n",
    "    plt.figure(figsize=(10,5))\n",
    "    sns.lineplot(x=hourly_counts.index, y=hourly_counts.values)\n",
    "    plt.title(\"Flights per Hour of Day\")\n",
    "    plt.xlabel(\"Hour of Day\")\n",
    "    plt.ylabel(\"Number of flights\")\n",
    "    plt.show()"
   ]
  },
  {
   "cell_type": "markdown",
   "id": "df7dfd68",
   "metadata": {},
   "source": [
    "### Spatial Analysis"
   ]
  },
  {
   "cell_type": "code",
   "execution_count": null,
   "id": "29b2f107",
   "metadata": {},
   "outputs": [],
   "source": [
    "mean_lat, mean_lon = df[\"latitude\"].mean(), df[\"longitude\"].mean()\n",
    "flight_map = folium.Map(location=[mean_lat, mean_lon], zoom_start=3)\n",
    "\n",
    "for _, row in df.sample(min(1000, len(df))).iterrows():\n",
    "    folium.CircleMarker(\n",
    "        location=[row[\"latitude\"], row[\"longitude\"]],\n",
    "        radius=2,\n",
    "        color=\"blue\",\n",
    "        fill=True,\n",
    "        fill_opacity=0.5\n",
    "    ).add_to(flight_map)\n",
    "    \n",
    "flight_map.save(\"flight_map.html\")\n",
    "print(\"Map saved\")"
   ]
  },
  {
   "cell_type": "markdown",
   "id": "c606ab95",
   "metadata": {},
   "source": [
    "### Per-Aircraft Analysis"
   ]
  },
  {
   "cell_type": "code",
   "execution_count": null,
   "id": "fc5fe35c",
   "metadata": {},
   "outputs": [],
   "source": [
    "icao_examples = df[\"icao24\"].iloc[:100].unique()  # select 5 unique aircraft for example\n",
    "\n",
    "for icao in icao_examples:\n",
    "    flight_path = df[df[\"icao24\"] == icao].sort_values(\"time_position\")\n",
    "    plt.plot(flight_path[\"longitude\"], flight_path[\"latitude\"], marker=\"o\", markersize=4)\n",
    "\n",
    "plt.title(\"Tragectory of Multiple Aircrafts\")\n",
    "plt.xlabel(\"Longitude\")\n",
    "plt.ylabel(\"Latitude\")\n",
    "plt.show()"
   ]
  },
  {
   "cell_type": "markdown",
   "id": "f0fdfd09",
   "metadata": {},
   "source": [
    "### Correlation Analysis"
   ]
  },
  {
   "cell_type": "code",
   "execution_count": null,
   "id": "14be0548",
   "metadata": {},
   "outputs": [],
   "source": [
    "selected_cols = [\"velocity\", \"barometric_altitude\", \"vertical_rate\"]\n",
    "plt.figure(figsize=(6,4))\n",
    "sns.heatmap(df[selected_cols].corr(), annot=True, cmap=\"coolwarm\")\n",
    "plt.title(\"Correlation Matrix\")\n",
    "plt.show()"
   ]
  },
  {
   "cell_type": "markdown",
   "id": "89827037",
   "metadata": {},
   "source": [
    "### **Save Processed Data in CSV**"
   ]
  },
  {
   "cell_type": "code",
   "execution_count": null,
   "id": "c7789c49",
   "metadata": {},
   "outputs": [],
   "source": [
    "df.to_csv(\"cleaned_flight_data.csv\", index=False)\n",
    "print(\"Cleaned Data saved as cleaned_flight_data.csv\")"
   ]
  },
  {
   "cell_type": "markdown",
   "id": "7f0429ab",
   "metadata": {},
   "source": [
    "# **ADVANCED ANALYSIS**"
   ]
  },
  {
   "cell_type": "markdown",
   "id": "118b1710",
   "metadata": {},
   "source": [
    "### Anomaly detection"
   ]
  },
  {
   "cell_type": "code",
   "execution_count": 80,
   "id": "1e3407b0",
   "metadata": {},
   "outputs": [
    {
     "name": "stdout",
     "output_type": "stream",
     "text": [
      "Found 2 anomalous flights by speed\n"
     ]
    }
   ],
   "source": [
    "if \"velocity\" in df.columns:\n",
    "    # Example: Detect flights with abnormally high/low speeds\n",
    "    speed_q1 = df[\"velocity\"].quantile(0.25)\n",
    "    speed_q3 = df[\"velocity\"].quantile(0.75)\n",
    "    iqr = speed_q3 - speed_q1\n",
    "    lower, upper = speed_q1 - 1.5*iqr, speed_q3 + 1.5*iqr\n",
    "    anomalies = df[(df[\"velocity\"] < lower) | (df[\"velocity\"] > upper)]\n",
    "    print(f\"Found {len(anomalies)} anomalous flights by speed\")"
   ]
  },
  {
   "cell_type": "code",
   "execution_count": 83,
   "id": "4ba7768f",
   "metadata": {},
   "outputs": [
    {
     "name": "stdout",
     "output_type": "stream",
     "text": [
      "Found 0 anomalous flights by altitude\n"
     ]
    }
   ],
   "source": [
    "if \"geo_altitude\" in df.columns:\n",
    "    # Detect altitude anomalies\n",
    "    altitude_mean = df[\"geo_altitude\"].mean()\n",
    "    altitude_std = df[\"geo_altitude\"].std()\n",
    "    unusual_alt = df[(df[\"geo_altitude\"] > altitude_mean + 3*altitude_std) |\n",
    "                     (df[\"geo_altitude\"] < altitude_mean - 3*altitude_std)]\n",
    "    print(f\"Found {len(unusual_alt)} anomalous flights by altitude\")"
   ]
  }
 ],
 "metadata": {
  "kernelspec": {
   "display_name": "Python 3",
   "language": "python",
   "name": "python3"
  },
  "language_info": {
   "codemirror_mode": {
    "name": "ipython",
    "version": 3
   },
   "file_extension": ".py",
   "mimetype": "text/x-python",
   "name": "python",
   "nbconvert_exporter": "python",
   "pygments_lexer": "ipython3",
   "version": "3.13.0"
  }
 },
 "nbformat": 4,
 "nbformat_minor": 5
}
